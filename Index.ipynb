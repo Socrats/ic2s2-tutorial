{
 "cells": [
  {
   "metadata": {},
   "cell_type": "markdown",
   "source": "# IC2D2 Tutorial: Evolutionary Game Theory are Two sides of the Same Coin",
   "id": "a7ba0841ff81cae1"
  },
  {
   "metadata": {},
   "cell_type": "markdown",
   "source": [
    "To guide you through the tutorial, we have prepared a series of Jupyter notebooks that you can run directly in your browser. You can access them through the links below:\n",
    "\n",
    "---\n",
    "\n",
    "### **Evolutionary Game Theory Notebooks**\n",
    "\n",
    "- [**Hawk-Dove Dynamics**](./notebooks/hawk_dove_dynamics.ipynb): Evolutionary dynamics of the Hawk-Dove game in infinite populations using the replicator equation.\n",
    "- [**Evolution of Trust**](./notebooks/evolution_of_trust.ipynb): Evolution of Trust game using both finite and infinite population models. This notebook includes examples for homogeneous populations and structured (networked) populations.\n",
    "- [**Asymmetric Normal Form Games**](./notebooks/asymmetric_normal_form_game.ipynb): Asymmetric games represented as two coupled populations.\n",
    "\n",
    "---\n",
    "\n",
    "### **Reinforcement Learning Notebook**\n",
    "\n",
    "- [**Reinforcement Learning**](./notebooks/ED2015.ipynb): Demonstrates how cross-learning behaves under different parameter settings and explores its implications for learning dynamics.\n"
   ],
   "id": "c1b64a2ac246fb18"
  },
  {
   "metadata": {},
   "cell_type": "code",
   "outputs": [],
   "execution_count": null,
   "source": "",
   "id": "b5779fec008c5fb5"
  }
 ],
 "metadata": {
  "kernelspec": {
   "display_name": "Python 3",
   "language": "python",
   "name": "python3"
  },
  "language_info": {
   "codemirror_mode": {
    "name": "ipython",
    "version": 2
   },
   "file_extension": ".py",
   "mimetype": "text/x-python",
   "name": "python",
   "nbconvert_exporter": "python",
   "pygments_lexer": "ipython2",
   "version": "2.7.6"
  }
 },
 "nbformat": 4,
 "nbformat_minor": 5
}
